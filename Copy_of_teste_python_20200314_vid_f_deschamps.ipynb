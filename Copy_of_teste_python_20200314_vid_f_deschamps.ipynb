{
  "nbformat": 4,
  "nbformat_minor": 0,
  "metadata": {
    "colab": {
      "name": "Copy of teste_python_20200314_vid_f_deschamps.ipynb",
      "provenance": [],
      "authorship_tag": "ABX9TyPB9avv2Z7tUw5c+sDM13iB",
      "include_colab_link": true
    },
    "kernelspec": {
      "name": "python3",
      "display_name": "Python 3"
    }
  },
  "cells": [
    {
      "cell_type": "markdown",
      "metadata": {
        "id": "view-in-github",
        "colab_type": "text"
      },
      "source": [
        "<a href=\"https://colab.research.google.com/github/HenriqueBentllin/PythonTests/blob/master/Copy_of_teste_python_20200314_vid_f_deschamps.ipynb\" target=\"_parent\"><img src=\"https://colab.research.google.com/assets/colab-badge.svg\" alt=\"Open In Colab\"/></a>"
      ]
    },
    {
      "cell_type": "code",
      "metadata": {
        "id": "Ocjwh-YSta3H",
        "colab_type": "code",
        "outputId": "f6e5d6f2-8ee6-41aa-f329-90badf63a6aa",
        "colab": {
          "base_uri": "https://localhost:8080/",
          "height": 51
        }
      },
      "source": [
        "nome = \"teste_nome\"\n",
        "print(nome)\n",
        "nome = \"guilherme venske\"\n",
        "nome"
      ],
      "execution_count": 0,
      "outputs": [
        {
          "output_type": "stream",
          "text": [
            "teste_nome\n"
          ],
          "name": "stdout"
        },
        {
          "output_type": "execute_result",
          "data": {
            "text/plain": [
              "'guilherme venske'"
            ]
          },
          "metadata": {
            "tags": []
          },
          "execution_count": 5
        }
      ]
    },
    {
      "cell_type": "code",
      "metadata": {
        "id": "93TD9wtiveMh",
        "colab_type": "code",
        "outputId": "8a90ca8f-60cc-4cde-da89-237e00c6ec57",
        "colab": {
          "base_uri": "https://localhost:8080/",
          "height": 34
        }
      },
      "source": [
        "idade = 30\n",
        "idade"
      ],
      "execution_count": 0,
      "outputs": [
        {
          "output_type": "execute_result",
          "data": {
            "text/plain": [
              "30"
            ]
          },
          "metadata": {
            "tags": []
          },
          "execution_count": 6
        }
      ]
    },
    {
      "cell_type": "code",
      "metadata": {
        "id": "UYkdeWUVvw_j",
        "colab_type": "code",
        "outputId": "8e9baa66-f6b5-47eb-c843-5b5c41aeaf60",
        "colab": {
          "base_uri": "https://localhost:8080/",
          "height": 34
        }
      },
      "source": [
        "idade+3\n"
      ],
      "execution_count": 0,
      "outputs": [
        {
          "output_type": "execute_result",
          "data": {
            "text/plain": [
              "33"
            ]
          },
          "metadata": {
            "tags": []
          },
          "execution_count": 8
        }
      ]
    },
    {
      "cell_type": "code",
      "metadata": {
        "id": "xbewrK0Xv3Aa",
        "colab_type": "code",
        "outputId": "cc0e262c-54a2-4890-e5a2-ec021ca6d18c",
        "colab": {
          "base_uri": "https://localhost:8080/",
          "height": 34
        }
      },
      "source": [
        "idade=idade+4\n",
        "idade\n"
      ],
      "execution_count": 0,
      "outputs": [
        {
          "output_type": "execute_result",
          "data": {
            "text/plain": [
              "38"
            ]
          },
          "metadata": {
            "tags": []
          },
          "execution_count": 11
        }
      ]
    },
    {
      "cell_type": "code",
      "metadata": {
        "id": "m1MyrZQcwv7t",
        "colab_type": "code",
        "outputId": "8aaf8f3f-5963-4ca1-8756-202ff1dbf128",
        "colab": {
          "base_uri": "https://localhost:8080/",
          "height": 34
        }
      },
      "source": [
        "idade+5\n"
      ],
      "execution_count": 0,
      "outputs": [
        {
          "output_type": "execute_result",
          "data": {
            "text/plain": [
              "43"
            ]
          },
          "metadata": {
            "tags": []
          },
          "execution_count": 12
        }
      ]
    },
    {
      "cell_type": "code",
      "metadata": {
        "id": "uEQ2j2nuw9Dv",
        "colab_type": "code",
        "colab": {}
      },
      "source": [
        "def mais_um_ano(idade):\n",
        "    print(\"inside function\")\n",
        "    return idade+1"
      ],
      "execution_count": 0,
      "outputs": []
    },
    {
      "cell_type": "code",
      "metadata": {
        "id": "WmY9zm74x2tV",
        "colab_type": "code",
        "outputId": "ea3936b0-c7e1-4081-ed5a-1f7c29c14d28",
        "colab": {
          "base_uri": "https://localhost:8080/",
          "height": 51
        }
      },
      "source": [
        "mais_um_ano(55)"
      ],
      "execution_count": 0,
      "outputs": [
        {
          "output_type": "stream",
          "text": [
            "inside function\n"
          ],
          "name": "stdout"
        },
        {
          "output_type": "execute_result",
          "data": {
            "text/plain": [
              "56"
            ]
          },
          "metadata": {
            "tags": []
          },
          "execution_count": 16
        }
      ]
    },
    {
      "cell_type": "code",
      "metadata": {
        "id": "ISkGgaY5yyDW",
        "colab_type": "code",
        "outputId": "385d1009-e46c-4009-bc43-e73c46d9de0c",
        "colab": {
          "base_uri": "https://localhost:8080/",
          "height": 51
        }
      },
      "source": [
        "def funcao_1(nr1):\n",
        "  print(nr1)\n",
        "  return nr1+1\n",
        "def funcao_2(nr2):\n",
        "  print(nr2)\n",
        "  return nr2/3\n",
        "nr3 = funcao_2(9)\n",
        "nr4 = funcao_1(10)"
      ],
      "execution_count": 0,
      "outputs": [
        {
          "output_type": "stream",
          "text": [
            "9\n",
            "10\n"
          ],
          "name": "stdout"
        }
      ]
    },
    {
      "cell_type": "code",
      "metadata": {
        "id": "3_UXZJuT7s-E",
        "colab_type": "code",
        "outputId": "0e10c1ea-ffde-4d48-837a-0313ef8c622c",
        "colab": {
          "base_uri": "https://localhost:8080/",
          "height": 34
        }
      },
      "source": [
        "filmes =  [\"filme1\",\"filme2\",\"filme3\"]\n",
        "filmes"
      ],
      "execution_count": 0,
      "outputs": [
        {
          "output_type": "execute_result",
          "data": {
            "text/plain": [
              "['filme1', 'filme2', 'filme3']"
            ]
          },
          "metadata": {
            "tags": []
          },
          "execution_count": 49
        }
      ]
    },
    {
      "cell_type": "code",
      "metadata": {
        "id": "LwtQzk5g77UD",
        "colab_type": "code",
        "colab": {}
      },
      "source": [
        ""
      ],
      "execution_count": 0,
      "outputs": []
    }
  ]
}